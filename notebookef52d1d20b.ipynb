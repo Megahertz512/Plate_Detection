{
 "cells": [
  {
   "cell_type": "code",
   "execution_count": null,
   "metadata": {
    "_cell_guid": "b1076dfc-b9ad-4769-8c92-a6c4dae69d19",
    "_uuid": "8f2839f25d086af736a60e9eeb907d3b93b6e0e5",
    "execution": {
     "iopub.execute_input": "2024-12-20T14:00:42.111231Z",
     "iopub.status.busy": "2024-12-20T14:00:42.110856Z",
     "iopub.status.idle": "2024-12-20T14:00:46.845078Z",
     "shell.execute_reply": "2024-12-20T14:00:46.844240Z",
     "shell.execute_reply.started": "2024-12-20T14:00:42.111195Z"
    },
    "trusted": true
   },
   "outputs": [],
   "source": [
    "!pip install gdown"
   ]
  },
  {
   "cell_type": "code",
   "execution_count": null,
   "metadata": {
    "execution": {
     "iopub.execute_input": "2024-12-20T14:00:48.107968Z",
     "iopub.status.busy": "2024-12-20T14:00:48.107679Z",
     "iopub.status.idle": "2024-12-20T14:00:53.362950Z",
     "shell.execute_reply": "2024-12-20T14:00:53.362087Z",
     "shell.execute_reply.started": "2024-12-20T14:00:48.107947Z"
    },
    "trusted": true
   },
   "outputs": [],
   "source": [
    "import gdown\n",
    "file_url = 'https://drive.google.com/uc?id=1xQs1x5iKyfLEiSZgvkJ6mH_x0UgFBUL7'\n",
    "output_path = '/Plate_data.zip'\n",
    "gdown.download(file_url, output_path, quiet=False)"
   ]
  },
  {
   "cell_type": "code",
   "execution_count": null,
   "metadata": {
    "collapsed": true,
    "execution": {
     "iopub.execute_input": "2024-12-20T14:01:02.141933Z",
     "iopub.status.busy": "2024-12-20T14:01:02.141533Z",
     "iopub.status.idle": "2024-12-20T14:01:02.856536Z",
     "shell.execute_reply": "2024-12-20T14:01:02.855645Z",
     "shell.execute_reply.started": "2024-12-20T14:01:02.141908Z"
    },
    "jupyter": {
     "outputs_hidden": true
    },
    "trusted": true
   },
   "outputs": [],
   "source": [
    "!unzip /Plate_data.zip"
   ]
  },
  {
   "cell_type": "code",
   "execution_count": 6,
   "metadata": {
    "execution": {
     "iopub.execute_input": "2024-12-20T14:01:34.079643Z",
     "iopub.status.busy": "2024-12-20T14:01:34.078997Z",
     "iopub.status.idle": "2024-12-20T14:01:34.084248Z",
     "shell.execute_reply": "2024-12-20T14:01:34.083414Z",
     "shell.execute_reply.started": "2024-12-20T14:01:34.079606Z"
    },
    "trusted": true
   },
   "outputs": [],
   "source": [
    "import os\n",
    "import shutil\n",
    "from sklearn.model_selection import train_test_split"
   ]
  },
  {
   "cell_type": "code",
   "execution_count": 7,
   "metadata": {
    "execution": {
     "iopub.execute_input": "2024-12-20T14:01:52.339507Z",
     "iopub.status.busy": "2024-12-20T14:01:52.339142Z",
     "iopub.status.idle": "2024-12-20T14:01:52.349713Z",
     "shell.execute_reply": "2024-12-20T14:01:52.348829Z",
     "shell.execute_reply.started": "2024-12-20T14:01:52.339481Z"
    },
    "trusted": true
   },
   "outputs": [],
   "source": [
    "import os\n",
    "import shutil\n",
    "from sklearn.model_selection import train_test_split\n",
    "\n",
    "def split_dataset(base_path, output_path, train_ratio=0.8):\n",
    "\n",
    "    # Define paths for images and labels\n",
    "    images_path = os.path.join(base_path, \"images\")\n",
    "    labels_path = os.path.join(base_path, \"labels\")\n",
    "\n",
    "    # Ensure base directories exist\n",
    "    if not os.path.exists(images_path) or not os.path.exists(labels_path):\n",
    "        raise FileNotFoundError(\"Either 'images' or 'labels' directory does not exist in the base path.\")\n",
    "\n",
    "    # Collect all image and label files\n",
    "    images = sorted([f for f in os.listdir(images_path) if f.endswith('.jpg')])\n",
    "    labels = sorted([f for f in os.listdir(labels_path) if f.endswith('.txt')])\n",
    "\n",
    "    # Ensure valid image-label pairs (both must exist)\n",
    "    valid_files = [img for img in images if os.path.splitext(img)[0] + \".txt\" in labels]\n",
    "\n",
    "    print(f\"Total images found: {len(images)}\")\n",
    "    print(f\"Valid image-label pairs: {len(valid_files)}\")\n",
    "\n",
    "    # Split into Train and Val sets\n",
    "    train_files, val_files = train_test_split(valid_files, train_size=train_ratio, random_state=42)\n",
    "\n",
    "    # Create YOLO directory structure\n",
    "    for split in ['train', 'val']:\n",
    "        os.makedirs(os.path.join(output_path, 'images', split), exist_ok=True)\n",
    "        os.makedirs(os.path.join(output_path, 'labels', split), exist_ok=True)\n",
    "\n",
    "    # Function to copy files\n",
    "    def copy_files(file_list, split):\n",
    "        for file in file_list:\n",
    "            shutil.copy(os.path.join(images_path, file), os.path.join(output_path, 'images', split, file))\n",
    "            shutil.copy(\n",
    "                os.path.join(labels_path, os.path.splitext(file)[0] + \".txt\"),\n",
    "                os.path.join(output_path, 'labels', split, os.path.splitext(file)[0] + \".txt\")\n",
    "            )\n",
    "\n",
    "    # Copy Train and Val files\n",
    "    copy_files(train_files, 'train')\n",
    "    copy_files(val_files, 'val')\n",
    "\n",
    "    print(f\"Dataset split completed: {len(train_files)} files in Train and {len(val_files)} files in Val.\")\n"
   ]
  },
  {
   "cell_type": "code",
   "execution_count": 8,
   "metadata": {
    "execution": {
     "iopub.execute_input": "2024-12-20T14:02:01.101031Z",
     "iopub.status.busy": "2024-12-20T14:02:01.100710Z",
     "iopub.status.idle": "2024-12-20T14:02:01.104906Z",
     "shell.execute_reply": "2024-12-20T14:02:01.104150Z",
     "shell.execute_reply.started": "2024-12-20T14:02:01.101004Z"
    },
    "trusted": true
   },
   "outputs": [],
   "source": [
    "os.makedirs('/kaggle/working/yolo', exist_ok=True)"
   ]
  },
  {
   "cell_type": "code",
   "execution_count": null,
   "metadata": {
    "execution": {
     "iopub.execute_input": "2024-12-20T14:02:07.504834Z",
     "iopub.status.busy": "2024-12-20T14:02:07.504509Z",
     "iopub.status.idle": "2024-12-20T14:02:07.513587Z",
     "shell.execute_reply": "2024-12-20T14:02:07.512761Z",
     "shell.execute_reply.started": "2024-12-20T14:02:07.504805Z"
    },
    "trusted": true
   },
   "outputs": [],
   "source": [
    "folders = [\n",
    "    '/kaggle/working/yolo/images/val',\n",
    "    '/kaggle/working/yolo/images/train',\n",
    "    '/kaggle/working/yolo/labels/val',\n",
    "    '/kaggle/working/yolo/labels/train'\n",
    "]\n",
    "\n",
    "for folder in folders:\n",
    "    os.makedirs(folder, exist_ok=True)\n",
    "\n",
    "for root, dirs, files in os.walk('/kaggle/working/yolo'):\n",
    "    print(root)\n",
    "    for dir in dirs:\n",
    "        print(f'  {dir}')\n"
   ]
  },
  {
   "cell_type": "code",
   "execution_count": null,
   "metadata": {
    "execution": {
     "iopub.execute_input": "2024-12-20T14:02:11.750067Z",
     "iopub.status.busy": "2024-12-20T14:02:11.749746Z",
     "iopub.status.idle": "2024-12-20T14:02:11.758390Z",
     "shell.execute_reply": "2024-12-20T14:02:11.757522Z",
     "shell.execute_reply.started": "2024-12-20T14:02:11.750036Z"
    },
    "trusted": true
   },
   "outputs": [],
   "source": [
    "for i,j,k in os.walk(\"/kaggle/working\"):\n",
    "    print(i)"
   ]
  },
  {
   "cell_type": "code",
   "execution_count": null,
   "metadata": {
    "execution": {
     "iopub.execute_input": "2024-12-20T14:02:16.128924Z",
     "iopub.status.busy": "2024-12-20T14:02:16.128603Z",
     "iopub.status.idle": "2024-12-20T14:02:16.255424Z",
     "shell.execute_reply": "2024-12-20T14:02:16.254514Z",
     "shell.execute_reply.started": "2024-12-20T14:02:16.128903Z"
    },
    "trusted": true
   },
   "outputs": [],
   "source": [
    "base_path = \"/kaggle/working\"\n",
    "output_path = \"/kaggle/working/yolo\"\n",
    "split_dataset(base_path, output_path, train_ratio=0.8)"
   ]
  },
  {
   "cell_type": "code",
   "execution_count": null,
   "metadata": {
    "execution": {
     "iopub.execute_input": "2024-12-20T14:02:39.775216Z",
     "iopub.status.busy": "2024-12-20T14:02:39.774875Z",
     "iopub.status.idle": "2024-12-20T14:02:41.351715Z",
     "shell.execute_reply": "2024-12-20T14:02:41.350653Z",
     "shell.execute_reply.started": "2024-12-20T14:02:39.775189Z"
    },
    "trusted": true
   },
   "outputs": [],
   "source": [
    "!git clone https://github.com/ultralytics/yolov5.git"
   ]
  },
  {
   "cell_type": "code",
   "execution_count": null,
   "metadata": {
    "execution": {
     "iopub.execute_input": "2024-12-20T14:02:57.888780Z",
     "iopub.status.busy": "2024-12-20T14:02:57.888417Z",
     "iopub.status.idle": "2024-12-20T14:02:57.896260Z",
     "shell.execute_reply": "2024-12-20T14:02:57.895509Z",
     "shell.execute_reply.started": "2024-12-20T14:02:57.888754Z"
    },
    "trusted": true
   },
   "outputs": [],
   "source": [
    "%cd yolov5"
   ]
  },
  {
   "cell_type": "code",
   "execution_count": null,
   "metadata": {
    "execution": {
     "iopub.execute_input": "2024-12-20T14:03:03.820271Z",
     "iopub.status.busy": "2024-12-20T14:03:03.819914Z",
     "iopub.status.idle": "2024-12-20T14:03:08.356025Z",
     "shell.execute_reply": "2024-12-20T14:03:08.355193Z",
     "shell.execute_reply.started": "2024-12-20T14:03:03.820242Z"
    },
    "trusted": true
   },
   "outputs": [],
   "source": [
    "!pip install -r requirements.txt"
   ]
  },
  {
   "cell_type": "code",
   "execution_count": 15,
   "metadata": {
    "execution": {
     "iopub.execute_input": "2024-12-20T14:03:10.170050Z",
     "iopub.status.busy": "2024-12-20T14:03:10.169723Z",
     "iopub.status.idle": "2024-12-20T14:03:10.175318Z",
     "shell.execute_reply": "2024-12-20T14:03:10.174527Z",
     "shell.execute_reply.started": "2024-12-20T14:03:10.170018Z"
    },
    "trusted": true
   },
   "outputs": [],
   "source": [
    "data_yaml = \"\"\"\n",
    "train: /kaggle/working/yolo/images/train\n",
    "val: /kaggle/working/yolo/images/val\n",
    "\n",
    "nc: 1\n",
    "names: ['plate']\n",
    "\"\"\"\n",
    "with open('/kaggle/working/yolo/data.yaml', 'w') as f:\n",
    "    f.write(data_yaml)"
   ]
  },
  {
   "cell_type": "code",
   "execution_count": null,
   "metadata": {
    "execution": {
     "iopub.execute_input": "2024-12-20T14:10:24.250281Z",
     "iopub.status.busy": "2024-12-20T14:10:24.249940Z",
     "iopub.status.idle": "2024-12-20T14:17:05.822734Z",
     "shell.execute_reply": "2024-12-20T14:17:05.821698Z",
     "shell.execute_reply.started": "2024-12-20T14:10:24.250250Z"
    },
    "trusted": true
   },
   "outputs": [],
   "source": [
    "!python train.py --img 320 --batch 64 --epochs 50 --data /kaggle/working/yolo/data.yaml --weights yolov5s.pt"
   ]
  },
  {
   "cell_type": "code",
   "execution_count": null,
   "metadata": {
    "execution": {
     "iopub.execute_input": "2024-12-20T14:18:30.041619Z",
     "iopub.status.busy": "2024-12-20T14:18:30.041276Z",
     "iopub.status.idle": "2024-12-20T14:18:30.046901Z",
     "shell.execute_reply": "2024-12-20T14:18:30.045996Z",
     "shell.execute_reply.started": "2024-12-20T14:18:30.041596Z"
    },
    "trusted": true
   },
   "outputs": [],
   "source": [
    "%cd runs/train/exp"
   ]
  },
  {
   "cell_type": "code",
   "execution_count": null,
   "metadata": {
    "execution": {
     "iopub.execute_input": "2024-12-20T14:18:45.492350Z",
     "iopub.status.busy": "2024-12-20T14:18:45.492005Z",
     "iopub.status.idle": "2024-12-20T14:18:45.619340Z",
     "shell.execute_reply": "2024-12-20T14:18:45.618517Z",
     "shell.execute_reply.started": "2024-12-20T14:18:45.492324Z"
    },
    "trusted": true
   },
   "outputs": [],
   "source": [
    "!ls"
   ]
  },
  {
   "cell_type": "code",
   "execution_count": null,
   "metadata": {
    "execution": {
     "iopub.execute_input": "2024-12-20T14:19:11.385554Z",
     "iopub.status.busy": "2024-12-20T14:19:11.385147Z",
     "iopub.status.idle": "2024-12-20T14:19:12.829646Z",
     "shell.execute_reply": "2024-12-20T14:19:12.828757Z",
     "shell.execute_reply.started": "2024-12-20T14:19:11.385517Z"
    },
    "trusted": true
   },
   "outputs": [],
   "source": [
    "folder_path = '/kaggle/working/yolov5/runs/train/exp'\n",
    "\n",
    "# Path to save the zip file\n",
    "zip_file_path = '/kaggle/working/result.zip'\n",
    "\n",
    "# Compress the folder\n",
    "shutil.make_archive(zip_file_path.replace('.zip', ''), 'zip', folder_path)"
   ]
  },
  {
   "cell_type": "code",
   "execution_count": null,
   "metadata": {
    "execution": {
     "iopub.execute_input": "2024-12-20T14:31:29.803414Z",
     "iopub.status.busy": "2024-12-20T14:31:29.803110Z",
     "iopub.status.idle": "2024-12-20T14:31:29.822398Z",
     "shell.execute_reply": "2024-12-20T14:31:29.821555Z",
     "shell.execute_reply.started": "2024-12-20T14:31:29.803393Z"
    },
    "trusted": true
   },
   "outputs": [],
   "source": [
    "for i,j,k in os.walk(\"/kaggle/working/\"):\n",
    "    print(i)"
   ]
  },
  {
   "cell_type": "code",
   "execution_count": null,
   "metadata": {
    "trusted": true
   },
   "outputs": [],
   "source": [
    "from IPython.display import FileLink\n",
    "FileLink(r'result.zip*')"
   ]
  }
 ],
 "metadata": {
  "kaggle": {
   "accelerator": "nvidiaTeslaT4",
   "dataSources": [],
   "dockerImageVersionId": 30823,
   "isGpuEnabled": true,
   "isInternetEnabled": true,
   "language": "python",
   "sourceType": "notebook"
  },
  "kernelspec": {
   "display_name": "Python 3",
   "language": "python",
   "name": "python3"
  },
  "language_info": {
   "codemirror_mode": {
    "name": "ipython",
    "version": 3
   },
   "file_extension": ".py",
   "mimetype": "text/x-python",
   "name": "python",
   "nbconvert_exporter": "python",
   "pygments_lexer": "ipython3",
   "version": "3.10.12"
  }
 },
 "nbformat": 4,
 "nbformat_minor": 4
}
